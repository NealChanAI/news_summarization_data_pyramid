{
 "cells": [
  {
   "cell_type": "code",
   "execution_count": 8,
   "id": "9889f29a-c48a-4e4b-bfed-436d88058931",
   "metadata": {},
   "outputs": [
    {
     "name": "stderr",
     "output_type": "stream",
     "text": [
      "C:\\Users\\chenyongming\\AppData\\Local\\anaconda3\\envs\\textsum_finetune\\lib\\site-packages\\tensorflow\\python\\framework\\dtypes.py:516: FutureWarning: Passing (type, 1) or '1type' as a synonym of type is deprecated; in a future version of numpy, it will be understood as (type, (1,)) / '(1,)type'.\n",
      "  _np_qint8 = np.dtype([(\"qint8\", np.int8, 1)])\n",
      "C:\\Users\\chenyongming\\AppData\\Local\\anaconda3\\envs\\textsum_finetune\\lib\\site-packages\\tensorflow\\python\\framework\\dtypes.py:517: FutureWarning: Passing (type, 1) or '1type' as a synonym of type is deprecated; in a future version of numpy, it will be understood as (type, (1,)) / '(1,)type'.\n",
      "  _np_quint8 = np.dtype([(\"quint8\", np.uint8, 1)])\n",
      "C:\\Users\\chenyongming\\AppData\\Local\\anaconda3\\envs\\textsum_finetune\\lib\\site-packages\\tensorflow\\python\\framework\\dtypes.py:518: FutureWarning: Passing (type, 1) or '1type' as a synonym of type is deprecated; in a future version of numpy, it will be understood as (type, (1,)) / '(1,)type'.\n",
      "  _np_qint16 = np.dtype([(\"qint16\", np.int16, 1)])\n",
      "C:\\Users\\chenyongming\\AppData\\Local\\anaconda3\\envs\\textsum_finetune\\lib\\site-packages\\tensorflow\\python\\framework\\dtypes.py:519: FutureWarning: Passing (type, 1) or '1type' as a synonym of type is deprecated; in a future version of numpy, it will be understood as (type, (1,)) / '(1,)type'.\n",
      "  _np_quint16 = np.dtype([(\"quint16\", np.uint16, 1)])\n",
      "C:\\Users\\chenyongming\\AppData\\Local\\anaconda3\\envs\\textsum_finetune\\lib\\site-packages\\tensorflow\\python\\framework\\dtypes.py:520: FutureWarning: Passing (type, 1) or '1type' as a synonym of type is deprecated; in a future version of numpy, it will be understood as (type, (1,)) / '(1,)type'.\n",
      "  _np_qint32 = np.dtype([(\"qint32\", np.int32, 1)])\n",
      "C:\\Users\\chenyongming\\AppData\\Local\\anaconda3\\envs\\textsum_finetune\\lib\\site-packages\\tensorflow\\python\\framework\\dtypes.py:525: FutureWarning: Passing (type, 1) or '1type' as a synonym of type is deprecated; in a future version of numpy, it will be understood as (type, (1,)) / '(1,)type'.\n",
      "  np_resource = np.dtype([(\"resource\", np.ubyte, 1)])\n",
      "C:\\Users\\chenyongming\\AppData\\Local\\anaconda3\\envs\\textsum_finetune\\lib\\site-packages\\tensorboard\\compat\\tensorflow_stub\\dtypes.py:541: FutureWarning: Passing (type, 1) or '1type' as a synonym of type is deprecated; in a future version of numpy, it will be understood as (type, (1,)) / '(1,)type'.\n",
      "  _np_qint8 = np.dtype([(\"qint8\", np.int8, 1)])\n",
      "C:\\Users\\chenyongming\\AppData\\Local\\anaconda3\\envs\\textsum_finetune\\lib\\site-packages\\tensorboard\\compat\\tensorflow_stub\\dtypes.py:542: FutureWarning: Passing (type, 1) or '1type' as a synonym of type is deprecated; in a future version of numpy, it will be understood as (type, (1,)) / '(1,)type'.\n",
      "  _np_quint8 = np.dtype([(\"quint8\", np.uint8, 1)])\n",
      "C:\\Users\\chenyongming\\AppData\\Local\\anaconda3\\envs\\textsum_finetune\\lib\\site-packages\\tensorboard\\compat\\tensorflow_stub\\dtypes.py:543: FutureWarning: Passing (type, 1) or '1type' as a synonym of type is deprecated; in a future version of numpy, it will be understood as (type, (1,)) / '(1,)type'.\n",
      "  _np_qint16 = np.dtype([(\"qint16\", np.int16, 1)])\n",
      "C:\\Users\\chenyongming\\AppData\\Local\\anaconda3\\envs\\textsum_finetune\\lib\\site-packages\\tensorboard\\compat\\tensorflow_stub\\dtypes.py:544: FutureWarning: Passing (type, 1) or '1type' as a synonym of type is deprecated; in a future version of numpy, it will be understood as (type, (1,)) / '(1,)type'.\n",
      "  _np_quint16 = np.dtype([(\"quint16\", np.uint16, 1)])\n",
      "C:\\Users\\chenyongming\\AppData\\Local\\anaconda3\\envs\\textsum_finetune\\lib\\site-packages\\tensorboard\\compat\\tensorflow_stub\\dtypes.py:545: FutureWarning: Passing (type, 1) or '1type' as a synonym of type is deprecated; in a future version of numpy, it will be understood as (type, (1,)) / '(1,)type'.\n",
      "  _np_qint32 = np.dtype([(\"qint32\", np.int32, 1)])\n",
      "C:\\Users\\chenyongming\\AppData\\Local\\anaconda3\\envs\\textsum_finetune\\lib\\site-packages\\tensorboard\\compat\\tensorflow_stub\\dtypes.py:550: FutureWarning: Passing (type, 1) or '1type' as a synonym of type is deprecated; in a future version of numpy, it will be understood as (type, (1,)) / '(1,)type'.\n",
      "  np_resource = np.dtype([(\"resource\", np.ubyte, 1)])\n"
     ]
    }
   ],
   "source": [
    "import pandas as pd\n",
    "import numpy as np\n",
    "from os import path as osp\n",
    "import json\n",
    "import spacy\n",
    "import matplotlib.pyplot as plt\n",
    "import seaborn as sns"
   ]
  },
  {
   "cell_type": "code",
   "execution_count": 11,
   "id": "a50726a1-96de-4b90-960f-09b86744562c",
   "metadata": {},
   "outputs": [],
   "source": [
    "ROOT_DIR = osp.dirname(osp.dirname(osp.abspath('.')))  # 项目根目录"
   ]
  },
  {
   "cell_type": "code",
   "execution_count": 3,
   "id": "7c27cf43-5a1b-4800-b97d-d7e68d90cc75",
   "metadata": {},
   "outputs": [],
   "source": [
    "file_path = 'companies_news_info_v2.txt'"
   ]
  },
  {
   "cell_type": "code",
   "execution_count": 4,
   "id": "8ac6ddc3-e226-4501-a29f-869b994dea0d",
   "metadata": {},
   "outputs": [],
   "source": [
    "data_lst = []\n",
    "data_path = osp.join(ROOT_DIR, 'data', 'THUCNews', file_path)"
   ]
  },
  {
   "cell_type": "markdown",
   "id": "f263e0c2-2da3-4922-81d8-871318a1e14e",
   "metadata": {},
   "source": [
    "# ABS长度分析"
   ]
  },
  {
   "cell_type": "code",
   "execution_count": 5,
   "id": "66bb1c89-4c4d-4847-bc3a-2902761a333e",
   "metadata": {},
   "outputs": [],
   "source": [
    "with open(data_path, mode='r', encoding='utf-8') as fr:\n",
    "    lines = fr.readlines()\n",
    "    for line in lines:\n",
    "        eles = line.strip().split('\\u0001')\n",
    "        data_lst.append(len(eles[1]))"
   ]
  },
  {
   "cell_type": "code",
   "execution_count": 6,
   "id": "18f7bb7b-1dd6-4a2c-b7de-676a06550968",
   "metadata": {},
   "outputs": [],
   "source": [
    "df = pd.DataFrame(data_lst)"
   ]
  },
  {
   "cell_type": "code",
   "execution_count": 7,
   "id": "468033d9-d9b7-4546-93ad-228b9187df3a",
   "metadata": {},
   "outputs": [],
   "source": [
    "df.columns = ['length']"
   ]
  },
  {
   "cell_type": "code",
   "execution_count": 8,
   "id": "6e5c1367-ae89-4efc-aa80-f8c2363d9994",
   "metadata": {},
   "outputs": [
    {
     "data": {
      "text/html": [
       "<div>\n",
       "<style scoped>\n",
       "    .dataframe tbody tr th:only-of-type {\n",
       "        vertical-align: middle;\n",
       "    }\n",
       "\n",
       "    .dataframe tbody tr th {\n",
       "        vertical-align: top;\n",
       "    }\n",
       "\n",
       "    .dataframe thead th {\n",
       "        text-align: right;\n",
       "    }\n",
       "</style>\n",
       "<table border=\"1\" class=\"dataframe\">\n",
       "  <thead>\n",
       "    <tr style=\"text-align: right;\">\n",
       "      <th></th>\n",
       "      <th>length</th>\n",
       "    </tr>\n",
       "  </thead>\n",
       "  <tbody>\n",
       "    <tr>\n",
       "      <th>0</th>\n",
       "      <td>338</td>\n",
       "    </tr>\n",
       "    <tr>\n",
       "      <th>1</th>\n",
       "      <td>364</td>\n",
       "    </tr>\n",
       "    <tr>\n",
       "      <th>2</th>\n",
       "      <td>317</td>\n",
       "    </tr>\n",
       "    <tr>\n",
       "      <th>3</th>\n",
       "      <td>830</td>\n",
       "    </tr>\n",
       "    <tr>\n",
       "      <th>4</th>\n",
       "      <td>298</td>\n",
       "    </tr>\n",
       "    <tr>\n",
       "      <th>...</th>\n",
       "      <td>...</td>\n",
       "    </tr>\n",
       "    <tr>\n",
       "      <th>243</th>\n",
       "      <td>678</td>\n",
       "    </tr>\n",
       "    <tr>\n",
       "      <th>244</th>\n",
       "      <td>297</td>\n",
       "    </tr>\n",
       "    <tr>\n",
       "      <th>245</th>\n",
       "      <td>776</td>\n",
       "    </tr>\n",
       "    <tr>\n",
       "      <th>246</th>\n",
       "      <td>1801</td>\n",
       "    </tr>\n",
       "    <tr>\n",
       "      <th>247</th>\n",
       "      <td>401</td>\n",
       "    </tr>\n",
       "  </tbody>\n",
       "</table>\n",
       "<p>248 rows × 1 columns</p>\n",
       "</div>"
      ],
      "text/plain": [
       "     length\n",
       "0       338\n",
       "1       364\n",
       "2       317\n",
       "3       830\n",
       "4       298\n",
       "..      ...\n",
       "243     678\n",
       "244     297\n",
       "245     776\n",
       "246    1801\n",
       "247     401\n",
       "\n",
       "[248 rows x 1 columns]"
      ]
     },
     "execution_count": 8,
     "metadata": {},
     "output_type": "execute_result"
    }
   ],
   "source": [
    "df"
   ]
  },
  {
   "cell_type": "code",
   "execution_count": 9,
   "id": "91fb21a1-7279-4ba1-9270-60e935e8fd90",
   "metadata": {},
   "outputs": [
    {
     "data": {
      "text/plain": [
       "count     248.000000\n",
       "mean      709.758065\n",
       "std       573.299017\n",
       "min       115.000000\n",
       "25%       307.250000\n",
       "50%       479.000000\n",
       "75%       921.500000\n",
       "max      3564.000000\n",
       "Name: length, dtype: float64"
      ]
     },
     "execution_count": 9,
     "metadata": {},
     "output_type": "execute_result"
    }
   ],
   "source": [
    "df['length'].describe()"
   ]
  },
  {
   "cell_type": "code",
   "execution_count": 10,
   "id": "5fd2463b-f53b-4017-afdf-f2a3cf217682",
   "metadata": {},
   "outputs": [
    {
     "data": {
      "image/png": "[encoded data removed]",
      "text/plain": [
       "<Figure size 432x288 with 1 Axes>"
      ]
     },
     "metadata": {
      "needs_background": "light"
     },
     "output_type": "display_data"
    }
   ],
   "source": [
    "plt.hist(df['length'], bins=10, edgecolor='black') # bins 参数控制柱子数量\n",
    "plt.title('新闻资讯长度统计图', fontproperties=\"SimHei\")\n",
    "plt.xlabel('字符数', fontproperties=\"SimHei\")\n",
    "plt.ylabel('频次', fontproperties=\"SimHei\")\n",
    "plt.grid(axis='y', alpha=0.75) # 添加网格线\n",
    "plt.savefig('新闻资讯长度统计图.png')\n",
    "plt.show()"
   ]
  },
  {
   "cell_type": "code",
   "execution_count": 11,
   "id": "afcb5c6f-955f-4117-b062-f75317d8b918",
   "metadata": {},
   "outputs": [
    {
     "data": {
      "image/png": "[encoded data removed]",
      "text/plain": [
       "<Figure size 432x288 with 1 Axes>"
      ]
     },
     "metadata": {
      "needs_background": "light"
     },
     "output_type": "display_data"
    }
   ],
   "source": [
    "df.boxplot(column='length')\n",
    "plt.title('Box Plot of length')\n",
    "plt.ylabel('Value')\n",
    "plt.show()"
   ]
  },
  {
   "cell_type": "code",
   "execution_count": 12,
   "id": "433bfb00-a97b-4d31-b178-b46125402ef8",
   "metadata": {},
   "outputs": [
    {
     "data": {
      "image/png": "[encoded data removed]",
      "text/plain": [
       "<Figure size 432x288 with 1 Axes>"
      ]
     },
     "metadata": {
      "needs_background": "light"
     },
     "output_type": "display_data"
    }
   ],
   "source": [
    "df['length'].plot(kind='kde')\n",
    "plt.title('Density Plot of col1')\n",
    "plt.xlabel('Value')\n",
    "plt.ylabel('Density')\n",
    "plt.show()"
   ]
  },
  {
   "cell_type": "code",
   "execution_count": 13,
   "id": "b696df92-9829-4fef-8938-8d2e38b68b2c",
   "metadata": {},
   "outputs": [
    {
     "name": "stdout",
     "output_type": "stream",
     "text": [
      "Peak Density X-value (Approximate Mode) for 'length': 374.55\n"
     ]
    },
    {
     "data": {
      "image/png": "[encoded data removed]",
      "text/plain": [
       "<Figure size 432x288 with 1 Axes>"
      ]
     },
     "metadata": {
      "needs_background": "light"
     },
     "output_type": "display_data"
    },
    {
     "data": {
      "image/png": "[encoded data removed]",
      "text/plain": [
       "<Figure size 576x432 with 1 Axes>"
      ]
     },
     "metadata": {
      "needs_background": "light"
     },
     "output_type": "display_data"
    }
   ],
   "source": [
    "# Generate KDE data for 'length' column\n",
    "kde = sns.kdeplot(data=df['length'],\n",
    "                  clip_on=False).lines[0]\n",
    "kde_x, kde_y = kde.get_data()\n",
    "\n",
    "# Find the index of the maximum density value\n",
    "max_density_index = np.argmax(kde_y)\n",
    "\n",
    "# Get the x-value at the peak density\n",
    "peak_x_value = kde_x[max_density_index]\n",
    "\n",
    "print(f\"Peak Density X-value (Approximate Mode) for 'length': {peak_x_value:.2f}\")\n",
    "\n",
    "# (Optional) Visualize the peak on the density plot\n",
    "plt.figure(figsize=(8, 6))\n",
    "sns.kdeplot(data=df['length'], fill=True)\n",
    "plt.axvline(peak_x_value, color='red', linestyle='--', label=f'Peak Density at x = {peak_x_value:.2f}')\n",
    "plt.legend()\n",
    "plt.title(\"Density Plot of 'length' with Peak Density Indicated\")\n",
    "plt.xlabel('Length Value')\n",
    "plt.ylabel('Density')\n",
    "plt.show()"
   ]
  },
  {
   "cell_type": "code",
   "execution_count": 14,
   "id": "c059ae47-4635-4e05-b74e-f05cb68008ee",
   "metadata": {},
   "outputs": [
    {
     "name": "stdout",
     "output_type": "stream",
     "text": [
      "25th Percentile of 'length': 307.25\n",
      "75th Percentile of 'length': 921.50\n",
      "Interquartile Range (IQR) for 'length': (307.25, 921.5)\n",
      "10th Percentile of 'length': 233.70\n",
      "90th Percentile of 'length': 1412.00\n",
      "10th-90th Percentile Range for 'length': (233.7, 1412.0000000000002)\n"
     ]
    }
   ],
   "source": [
    "percentile_25 = df['length'].quantile(0.25)\n",
    "percentile_75 = df['length'].quantile(0.75)\n",
    "iqr_range = (percentile_25, percentile_75)\n",
    "\n",
    "print(f\"25th Percentile of 'length': {percentile_25:.2f}\")\n",
    "print(f\"75th Percentile of 'length': {percentile_75:.2f}\")\n",
    "print(f\"Interquartile Range (IQR) for 'length': {iqr_range}\")\n",
    "\n",
    "# Example for 10th to 90th percentile range\n",
    "percentile_10 = df['length'].quantile(0.10)\n",
    "percentile_90 = df['length'].quantile(0.90)\n",
    "p90_range = (percentile_10, percentile_90)\n",
    "print(f\"10th Percentile of 'length': {percentile_10:.2f}\")\n",
    "print(f\"90th Percentile of 'length': {percentile_90:.2f}\")\n",
    "print(f\"10th-90th Percentile Range for 'length': {p90_range}\")"
   ]
  },
  {
   "cell_type": "markdown",
   "id": "eb9a413d-fb96-4164-9d42-ce44b41966ea",
   "metadata": {},
   "source": [
    "# length analysis"
   ]
  },
  {
   "cell_type": "code",
   "execution_count": 15,
   "id": "d5197165-5bac-4a2d-bf15-0524aa325917",
   "metadata": {},
   "outputs": [],
   "source": [
    "data_lst = []\n",
    "with open(data_path, mode='r', encoding='utf-8') as fr:\n",
    "    lines = fr.readlines()\n",
    "    for line in lines:\n",
    "        eles = line.strip().split('\\u0001')\n",
    "        data_lst.append((eles[0], eles[1]))"
   ]
  },
  {
   "cell_type": "code",
   "execution_count": null,
   "id": "3363e3e3-6d16-4546-b469-f6732970199b",
   "metadata": {},
   "outputs": [],
   "source": [
    "df = pd.DataFrame(data_lst)\n",
    "df.columns = ['summary', 'text']"
   ]
  },
  {
   "cell_type": "code",
   "execution_count": 17,
   "id": "b7a56c14-43aa-4fbc-8e38-596db336f56d",
   "metadata": {},
   "outputs": [],
   "source": [
    "df['summary_length'] = df['summary'].apply(len)\n",
    "df['text_length'] = df['text'].apply(len)\n",
    "df['compress_ratio'] = df['summary_length'] / df['text_length']  "
   ]
  },
  {
   "cell_type": "code",
   "execution_count": 18,
   "id": "fe5709c0-50ad-4aba-8611-b102c66eb6b3",
   "metadata": {},
   "outputs": [
    {
     "data": {
      "text/plain": [
       "0       81\n",
       "1       93\n",
       "2       86\n",
       "3      137\n",
       "4      144\n",
       "      ... \n",
       "243    137\n",
       "244    161\n",
       "245     90\n",
       "246    137\n",
       "247     96\n",
       "Name: summary_length, Length: 248, dtype: int64"
      ]
     },
     "execution_count": 18,
     "metadata": {},
     "output_type": "execute_result"
    }
   ],
   "source": [
    "df['summary_length']"
   ]
  },
  {
   "cell_type": "code",
   "execution_count": 19,
   "id": "7397c008-fa7f-4e9b-9ab9-e05e5db132b1",
   "metadata": {},
   "outputs": [
    {
     "data": {
      "text/plain": [
       "0       338\n",
       "1       364\n",
       "2       317\n",
       "3       830\n",
       "4       298\n",
       "       ... \n",
       "243     678\n",
       "244     297\n",
       "245     776\n",
       "246    1801\n",
       "247     401\n",
       "Name: text_length, Length: 248, dtype: int64"
      ]
     },
     "execution_count": 19,
     "metadata": {},
     "output_type": "execute_result"
    }
   ],
   "source": [
    "df['text_length']"
   ]
  },
  {
   "cell_type": "code",
   "execution_count": 20,
   "id": "3562e30a-2c0a-4051-83c5-6821c76b6e01",
   "metadata": {},
   "outputs": [
    {
     "data": {
      "text/plain": [
       "0      24.0%\n",
       "1      25.5%\n",
       "2      27.1%\n",
       "3      16.5%\n",
       "4      48.3%\n",
       "       ...  \n",
       "243    20.2%\n",
       "244    54.2%\n",
       "245    11.6%\n",
       "246     7.6%\n",
       "247    23.9%\n",
       "Name: compress_ratio, Length: 248, dtype: object"
      ]
     },
     "execution_count": 20,
     "metadata": {},
     "output_type": "execute_result"
    }
   ],
   "source": [
    "df['compress_ratio'].apply(lambda x: str(round(x * 100, 1)) + '%')"
   ]
  },
  {
   "cell_type": "code",
   "execution_count": 21,
   "id": "477b587f-eafc-4ee4-a262-864d70288d43",
   "metadata": {},
   "outputs": [
    {
     "data": {
      "text/plain": [
       "count    248.000000\n",
       "mean     122.443548\n",
       "std       38.530666\n",
       "min       39.000000\n",
       "25%       93.000000\n",
       "50%      122.500000\n",
       "75%      148.250000\n",
       "max      245.000000\n",
       "Name: summary_length, dtype: float64"
      ]
     },
     "execution_count": 21,
     "metadata": {},
     "output_type": "execute_result"
    }
   ],
   "source": [
    "df['summary_length'].describe()"
   ]
  },
  {
   "cell_type": "code",
   "execution_count": 22,
   "id": "b5ec8033-434e-47d5-8b86-4fcd5dd5cb02",
   "metadata": {},
   "outputs": [
    {
     "data": {
      "text/plain": [
       "count     248.000000\n",
       "mean      709.758065\n",
       "std       573.299017\n",
       "min       115.000000\n",
       "25%       307.250000\n",
       "50%       479.000000\n",
       "75%       921.500000\n",
       "max      3564.000000\n",
       "Name: text_length, dtype: float64"
      ]
     },
     "execution_count": 22,
     "metadata": {},
     "output_type": "execute_result"
    }
   ],
   "source": [
    "df['text_length'].describe()"
   ]
  },
  {
   "cell_type": "code",
   "execution_count": 23,
   "id": "7abdfefc-cb8d-4803-80fe-37d12cad5840",
   "metadata": {},
   "outputs": [
    {
     "data": {
      "text/plain": [
       "count    248.000000\n",
       "mean       0.262674\n",
       "std        0.159976\n",
       "min        0.027203\n",
       "25%        0.137267\n",
       "50%        0.234513\n",
       "75%        0.361709\n",
       "max        0.775510\n",
       "Name: compress_ratio, dtype: float64"
      ]
     },
     "execution_count": 23,
     "metadata": {},
     "output_type": "execute_result"
    }
   ],
   "source": [
    "df['compress_ratio'].describe()"
   ]
  },
  {
   "cell_type": "markdown",
   "id": "f15288ee-28f4-49b1-9301-b22ddadfb5ba",
   "metadata": {},
   "source": [
    "# 关键词分析"
   ]
  },
  {
   "cell_type": "code",
   "execution_count": 24,
   "id": "ca4b7b1d",
   "metadata": {},
   "outputs": [],
   "source": [
    "# pip install jieba"
   ]
  },
  {
   "cell_type": "code",
   "execution_count": 25,
   "id": "16d334a6-bdf4-46db-885b-bb02f94f7b51",
   "metadata": {},
   "outputs": [],
   "source": [
    "from sklearn.feature_extraction.text import TfidfVectorizer\n",
    "import jieba\n",
    "\n",
    "def load_stopwords(stopwords_file):\n",
    "    \"\"\"\n",
    "    加载停用词列表.\n",
    "\n",
    "    Args:\n",
    "        stopwords_file (str): 停用词文件路径.\n",
    "\n",
    "    Returns:\n",
    "        set: 停用词集合.\n",
    "    \"\"\"\n",
    "    stopwords = set()\n",
    "    with open(stopwords_file, 'r', encoding='utf-8') as f:\n",
    "        for line in f:\n",
    "            stopwords.add(line.strip()) # 去除行尾的换行符和空格\n",
    "    return stopwords\n",
    "\n",
    "stop_word_file = 'hit_stopwords.txt'\n",
    "def tfidf_keyword_extraction_multiple_with_stopwords(texts, stop_word_file, top_k=10):\n",
    "    \"\"\"\n",
    "    Extracts top keywords from multiple texts using TF-IDF.\n",
    "\n",
    "    Args:\n",
    "        texts (list): A list of input texts (strings).\n",
    "        top_k (int): Number of top keywords to extract PER DOCUMENT.\n",
    "\n",
    "    Returns:\n",
    "        dict: A dictionary where keys are document indices and values are lists of top keywords for each document.\n",
    "    \"\"\"\n",
    "    stopwords = load_stopwords(stop_word_file)\n",
    "    processed_texts = []\n",
    "    for text in texts:\n",
    "        words = jieba.lcut(text)\n",
    "        # 移除停用词\n",
    "        filtered_words = [word for word in words if word not in stopwords]\n",
    "        processed_texts.append(\" \".join(filtered_words))\n",
    "\n",
    "    vectorizer = TfidfVectorizer()\n",
    "    tfidf_matrix = vectorizer.fit_transform(processed_texts) # Now fit on ALL texts\n",
    "\n",
    "    all_keywords = {} # Dictionary to store keywords for each document\n",
    "    feature_names = vectorizer.get_feature_names()\n",
    "\n",
    "    for i, text in enumerate(texts): # Iterate through each document\n",
    "        tfidf_scores = tfidf_matrix[i].toarray().flatten() # Get scores for document i\n",
    "        keywords_scores = list(zip(feature_names, tfidf_scores))\n",
    "        keywords_scores = sorted(keywords_scores, key=lambda x: x[1], reverse=True)\n",
    "        top_keywords = [keyword for keyword, score in keywords_scores[:top_k]]\n",
    "        all_keywords[i] = top_keywords # Store keywords for document i\n",
    "\n",
    "    return all_keywords"
   ]
  },
  {
   "cell_type": "markdown",
   "id": "bfa4f7b3-2292-46d2-9430-b8fdedb0ac5e",
   "metadata": {},
   "source": [
    "# Correlation Analysis of Keyword Intersection Rate and ROUGE Scores"
   ]
  },
  {
   "cell_type": "code",
   "execution_count": 82,
   "id": "67204059-49b7-4810-9db5-8ec94936b5cf",
   "metadata": {},
   "outputs": [],
   "source": [
    "_rouge = rouge.Rouge()\n",
    "def compute_rouge(source, target):\n",
    "    \"\"\"计算融合rouge指标\"\"\"\n",
    "    source, target = ' '.join(source), ' '.join(target)\n",
    "    try:\n",
    "        scores = _rouge.get_scores(hyps=source, refs=target)\n",
    "        rouge_1 = scores[0]['rouge-1']['f']\n",
    "        rouge_2 = scores[0]['rouge-2']['f']\n",
    "        rouge_l = scores[0]['rouge-l']['f']\n",
    "        return rouge_1 * 0.4 + rouge_2 * 0.4 + rouge_l * 0.2\n",
    "    except ValueError:\n",
    "        return 0.0"
   ]
  },
  {
   "cell_type": "code",
   "execution_count": 83,
   "id": "7b6f2607-f536-4ecc-ab32-6b10e32c1825",
   "metadata": {},
   "outputs": [],
   "source": [
    "def correlation_analysis_of_keyword_intersection_rate_and_rouge_scores(data_lst, stopwords, top_k=10):\n",
    "    for summary, text in data_lst:\n",
    "        print(compute_rouge(text, summary))"
   ]
  },
  {
   "cell_type": "code",
   "execution_count": null,
   "id": "9bdf8d5c-d550-4b68-9714-27da0ccb5c59",
   "metadata": {},
   "outputs": [],
   "source": [
    "def tfidf_keyword_extraction_multiple_with_stopwords(texts, stop_word_file, top_k=10):\n",
    "    \"\"\"\n",
    "    Extracts top keywords from multiple texts using TF-IDF.\n",
    "\n",
    "    Args:\n",
    "        texts (list): A list of input texts (strings).\n",
    "        top_k (int): Number of top keywords to extract PER DOCUMENT.\n",
    "\n",
    "    Returns:\n",
    "        dict: A dictionary where keys are document indices and values are lists of top keywords for each document.\n",
    "    \"\"\"\n",
    "    stopwords = load_stopwords(stop_word_file)\n",
    "    processed_texts = []\n",
    "    for text in texts:\n",
    "        words = jieba.lcut(text)\n",
    "        # 移除停用词\n",
    "        filtered_words = [word for word in words if word not in stopwords]\n",
    "        processed_texts.append(\" \".join(filtered_words))\n",
    "\n",
    "    vectorizer = TfidfVectorizer()\n",
    "    tfidf_matrix = vectorizer.fit_transform(processed_texts) # Now fit on ALL texts\n",
    "\n",
    "    all_keywords = {} # Dictionary to store keywords for each document\n",
    "    feature_names = vectorizer.get_feature_names()\n",
    "\n",
    "    for i, text in enumerate(texts): # Iterate through each document\n",
    "        tfidf_scores = tfidf_matrix[i].toarray().flatten() # Get scores for document i\n",
    "        keywords_scores = list(zip(feature_names, tfidf_scores))\n",
    "        keywords_scores = sorted(keywords_scores, key=lambda x: x[1], reverse=True)\n",
    "        top_keywords = [keyword for keyword, score in keywords_scores[:top_k]]\n",
    "        all_keywords[i] = top_keywords # Store keywords for document i\n",
    "\n",
    "    return all_keywords"
   ]
  },
  {
   "cell_type": "code",
   "execution_count": 26,
   "id": "8f19d4a9-3e44-4407-a46d-42a9ac6eaf78",
   "metadata": {},
   "outputs": [],
   "source": [
    " pip install scikit-learn -i https://pypi.tuna.tsinghua.edu.cn/simple"
   ]
  },
  {
   "cell_type": "code",
   "execution_count": null,
   "id": "8a0f60eb-4863-4018-a6b3-e79b491b322b",
   "metadata": {},
   "outputs": [],
   "source": [
    "# text keyword analysis\n",
    "text_keywords_tfidf = tfidf_keyword_extraction_multiple_with_stopwords([ele[1] for ele in data_lst], stop_word_file)\n",
    "for i, keywords in text_keywords_tfidf.items():\n",
    "    print(f\"TF-IDF Keywords for Document {i+1}:\", keywords)"
   ]
  },
  {
   "cell_type": "code",
   "execution_count": null,
   "id": "0a8475a8-08d7-4a4d-8c80-e1b3cb1b9d6e",
   "metadata": {},
   "outputs": [],
   "source": [
    "# summary keyword analysis\n",
    "summary_keywords_tfidf = tfidf_keyword_extraction_multiple_with_stopwords([ele[0] for ele in data_lst], stop_word_file)\n",
    "for i, keywords in summary_keywords_tfidf.items():\n",
    "    print(f\"TF-IDF Keywords for Document {i+1}:\", keywords)"
   ]
  },
  {
   "cell_type": "code",
   "execution_count": 32,
   "id": "dfc9193d-e5ab-4761-adfc-1f7ce60bd4eb",
   "metadata": {},
   "outputs": [],
   "source": [
    "# 对比分析summary和text关键词的交叉度\n",
    "intersection_rate = []\n",
    "for i in range(len(summary_keywords_tfidf)):\n",
    "    summary_keyword_set = set(summary_keywords_tfidf[i])\n",
    "    text_keyword_set = set(text_keywords_tfidf[i])\n",
    "    intersection_count = len(text_keyword_set.intersection(summary_keyword_set))\n",
    "    intersection_rate.append(intersection_count / len(text_keywords_tfidf[i]))\n",
    "intersection_rate_df = pd.DataFrame(intersection_rate)\n",
    "intersection_rate_df.columns = ['intersection_rate']"
   ]
  },
  {
   "cell_type": "code",
   "execution_count": 33,
   "id": "f2d2293a-b303-445e-91eb-a1f717864dd4",
   "metadata": {},
   "outputs": [
    {
     "data": {
      "text/html": [
       "<div>\n",
       "<style scoped>\n",
       "    .dataframe tbody tr th:only-of-type {\n",
       "        vertical-align: middle;\n",
       "    }\n",
       "\n",
       "    .dataframe tbody tr th {\n",
       "        vertical-align: top;\n",
       "    }\n",
       "\n",
       "    .dataframe thead th {\n",
       "        text-align: right;\n",
       "    }\n",
       "</style>\n",
       "<table border=\"1\" class=\"dataframe\">\n",
       "  <thead>\n",
       "    <tr style=\"text-align: right;\">\n",
       "      <th></th>\n",
       "      <th>intersection_rate</th>\n",
       "    </tr>\n",
       "  </thead>\n",
       "  <tbody>\n",
       "    <tr>\n",
       "      <th>count</th>\n",
       "      <td>248.000000</td>\n",
       "    </tr>\n",
       "    <tr>\n",
       "      <th>mean</th>\n",
       "      <td>0.465323</td>\n",
       "    </tr>\n",
       "    <tr>\n",
       "      <th>std</th>\n",
       "      <td>0.172171</td>\n",
       "    </tr>\n",
       "    <tr>\n",
       "      <th>min</th>\n",
       "      <td>0.000000</td>\n",
       "    </tr>\n",
       "    <tr>\n",
       "      <th>25%</th>\n",
       "      <td>0.400000</td>\n",
       "    </tr>\n",
       "    <tr>\n",
       "      <th>50%</th>\n",
       "      <td>0.500000</td>\n",
       "    </tr>\n",
       "    <tr>\n",
       "      <th>75%</th>\n",
       "      <td>0.600000</td>\n",
       "    </tr>\n",
       "    <tr>\n",
       "      <th>max</th>\n",
       "      <td>0.900000</td>\n",
       "    </tr>\n",
       "  </tbody>\n",
       "</table>\n",
       "</div>"
      ],
      "text/plain": [
       "       intersection_rate\n",
       "count         248.000000\n",
       "mean            0.465323\n",
       "std             0.172171\n",
       "min             0.000000\n",
       "25%             0.400000\n",
       "50%             0.500000\n",
       "75%             0.600000\n",
       "max             0.900000"
      ]
     },
     "execution_count": 33,
     "metadata": {},
     "output_type": "execute_result"
    }
   ],
   "source": [
    "intersection_rate_df.describe()"
   ]
  },
  {
   "cell_type": "markdown",
   "id": "a5b95723-61e1-4be0-8fd3-d9e702008cd8",
   "metadata": {},
   "source": [
    "# word cloud"
   ]
  },
  {
   "cell_type": "code",
   "execution_count": 34,
   "id": "945568a2-7955-4019-9de5-9d42a0ccb5f7",
   "metadata": {},
   "outputs": [],
   "source": [
    "# pip install wordcloud==1.8.2.2 --user"
   ]
  },
  {
   "cell_type": "code",
   "execution_count": 35,
   "id": "766f089b-065e-4f8a-834e-173d67961ba7",
   "metadata": {},
   "outputs": [],
   "source": [
    "# pip install Pillow"
   ]
  },
  {
   "cell_type": "code",
   "execution_count": 51,
   "id": "36c3eb51-bda4-46d6-839d-bd566acb3043",
   "metadata": {},
   "outputs": [],
   "source": [
    "from wordcloud import WordCloud\n",
    "import jieba\n",
    "import matplotlib.pyplot as plt\n",
    "import numpy as np\n",
    "from PIL import Image "
   ]
  },
  {
   "cell_type": "code",
   "execution_count": 52,
   "id": "5b0b0ea2-d7dc-4cd1-8eb4-a1123d53c361",
   "metadata": {},
   "outputs": [],
   "source": [
    "stopwords_file='hit_stopwords.txt'\n",
    "stopwords = load_stopwords(stopwords_file)"
   ]
  },
  {
   "cell_type": "code",
   "execution_count": 53,
   "id": "2c9d50c6-5e88-48ed-bc36-816683a87c04",
   "metadata": {},
   "outputs": [],
   "source": [
    "def generate_wordcloud(text, stopwords, output_file=\"wordcloud.png\", mask_file=None, font_path=r\"simhei.ttf\"):\n",
    "    \"\"\"\n",
    "    Generates a word cloud from Chinese text.\n",
    "\n",
    "    Args:\n",
    "        text (str): The input Chinese text.\n",
    "        output_file (str): Path to save the generated word cloud image.\n",
    "        mask_file (str, optional): Path to a mask image file (for custom shapes). Defaults to None.\n",
    "        font_path (str, optional): Path to a font file that supports Chinese characters. Defaults to \"simhei.ttf\".\n",
    "    \"\"\"\n",
    "\n",
    "    # 1. 中文分词 (Chinese Word Segmentation)\n",
    "    wordlist_jieba = jieba.lcut(text)\n",
    "    wordlist_jieba_without_stopword = [word for word in wordlist_jieba if word not in stopwords]\n",
    "    wl_space_split = \" \".join(wordlist_jieba_without_stopword)\n",
    "\n",
    "    # 2. 设置词云参数 (Configure WordCloud)\n",
    "    #  这里需要根据你的实际情况调整参数\n",
    "    wc = WordCloud(\n",
    "        background_color=\"white\", # 背景颜色\n",
    "        max_words=200,           # 最大词数\n",
    "        font_path=font_path,    # 字体路径 (需要支持中文的字体)\n",
    "        width=800,              # 宽度\n",
    "        height=600,             # 高度\n",
    "        margin=2,               # 词语边缘距离\n",
    "        max_font_size=150,      # 最大字体大小\n",
    "        random_state=42,        # 随机种子，保证每次运行结果一致\n",
    "        mask=None,              # 默认矩形，可以自定义词云形状\n",
    "        stopwords=None,         # 停用词，这里不设置停用词\n",
    "        scale=1.5               # 清晰度，值越大越清晰\n",
    "    )\n",
    "\n",
    "    #  如果需要自定义词云形状，可以加载mask图片\n",
    "    if mask_file:\n",
    "        mask = np.array(Image.open(mask_file))\n",
    "        wc.mask = mask\n",
    "\n",
    "    # 3. 生成词云 (Generate Word Cloud)\n",
    "    my_wordcloud = wc.generate(wl_space_split)\n",
    "\n",
    "    # 4. 显示词云图片 (Display Word Cloud Image)\n",
    "    plt.imshow(my_wordcloud)\n",
    "    plt.axis(\"off\") # 关闭坐标轴\n",
    "    plt.show()\n",
    "\n",
    "    # 5. 保存词云图片 (Save Word Cloud Image)\n",
    "    wc.to_file(output_file)"
   ]
  },
  {
   "cell_type": "code",
   "execution_count": null,
   "id": "a9fbab5d-feee-4e68-81fb-c099f3b419c5",
   "metadata": {},
   "outputs": [],
   "source": [
    "summary_keywords_lst = [' '.join(v) for _, v in summary_keywords_tfidf.items()]\n",
    "text = ' '.join(summary_keywords_lst)\n",
    "output_file = \"summary_keywords_wordcloud.png\" # 输出文件名\n",
    "generate_wordcloud(text, stopwords, output_file)"
   ]
  },
  {
   "cell_type": "code",
   "execution_count": null,
   "id": "1061ec6c-7327-493a-9809-82ac94199882",
   "metadata": {},
   "outputs": [],
   "source": [
    "text_keywords_lst = [' '.join(v) for _, v in text_keywords_tfidf.items()]\n",
    "text = ' '.join(text_keywords_lst)\n",
    "output_file = \"text_keywords_wordcloud.png\" # 输出文件名\n",
    "generate_wordcloud(text, stopwords, output_file)"
   ]
  },
  {
   "cell_type": "code",
   "execution_count": null,
   "id": "393ee4f2-0e08-45b2-8b90-c46182c25c80",
   "metadata": {},
   "outputs": [],
   "source": [
    "summary_lst = [i[0] for i in data_lst]\n",
    "text = ' '.join(summary_lst)\n",
    "output_file = \"summary_wordcloud.png\" # 输出文件名\n",
    "generate_wordcloud(text, stopwords, output_file)"
   ]
  },
  {
   "cell_type": "code",
   "execution_count": null,
   "id": "ae57f54e-93e6-45b1-bea5-1505dd49b225",
   "metadata": {},
   "outputs": [],
   "source": [
    "text_lst = [i[1] for i in data_lst]\n",
    "text = ' '.join(text_lst)\n",
    "output_file = \"text_wordcloud.png\" # 输出文件名\n",
    "generate_wordcloud(text, stopwords, output_file)"
   ]
  },
  {
   "cell_type": "markdown",
   "id": "d99b093e-960a-4259-9212-51579bd61fa9",
   "metadata": {},
   "source": [
    "# keywords NER analysis"
   ]
  },
  {
   "cell_type": "code",
   "execution_count": 58,
   "id": "3ba25c83-ac38-45ee-b6d0-844da16d37f3",
   "metadata": {},
   "outputs": [],
   "source": [
    "# pip install -U  wheel -i https://pypi.tuna.tsinghua.edu.cn/simple"
   ]
  },
  {
   "cell_type": "code",
   "execution_count": 59,
   "id": "952d787b-aaef-4ef5-b56a-f396c420c2bb",
   "metadata": {},
   "outputs": [],
   "source": [
    "# pip install -U spacy -i https://pypi.tuna.tsinghua.edu.cn/simple"
   ]
  },
  {
   "cell_type": "code",
   "execution_count": 60,
   "id": "ff46bd9e-0fa4-40db-a087-fd16a7303400",
   "metadata": {},
   "outputs": [],
   "source": [
    "# pip install spacy-pkuseg  -U"
   ]
  },
  {
   "cell_type": "code",
   "execution_count": 61,
   "id": "d2854b91-b359-4492-a37f-3301a47df40b",
   "metadata": {},
   "outputs": [],
   "source": [
    "# pip install zh_core_web_sm-3.8.0.tar.gz"
   ]
  },
  {
   "cell_type": "code",
   "execution_count": 62,
   "id": "988abe6d-6ecc-4ecf-be7d-898fb0c84891",
   "metadata": {},
   "outputs": [],
   "source": [
    "def tfidf_keyword_extraction_with_ner(keywords_lst, spacy_model=\"zh_core_web_sm\"):\n",
    "    # 3. 加载 spaCy 中文模型 (Load spaCy Chinese Model)\n",
    "    nlp = spacy.load(spacy_model)\n",
    "\n",
    "    # 4. 对关键词进行 NER 分析 (Perform NER Analysis on Keywords)\n",
    "    keywords_ner_labels = {}\n",
    "    for keyword in keywords_lst:\n",
    "        doc = nlp(keyword) # Process keyword with spaCy\n",
    "        if doc.ents: # Check if any entities are recognized\n",
    "            # For simplicity, take the label of the first entity if multiple are found (keywords are usually short)\n",
    "            ner_label = doc.ents[0].label_ # Get NER label\n",
    "        else:\n",
    "            ner_label = \"NONE\" # If no entity recognized, label as \"NONE\"\n",
    "        keywords_ner_labels[keyword] = ner_label # Store keyword and its NER label\n",
    "\n",
    "    return keywords_ner_labels"
   ]
  },
  {
   "cell_type": "code",
   "execution_count": 63,
   "id": "4bfcd69e-d40c-4834-b884-28f209b768f6",
   "metadata": {},
   "outputs": [],
   "source": [
    "# summary_keywords_lst = [v for _, v in summary_keywords_tfidf.items()]"
   ]
  },
  {
   "cell_type": "code",
   "execution_count": 64,
   "id": "d859fda1-c8ab-4c6e-97c1-1a705de8c33e",
   "metadata": {},
   "outputs": [],
   "source": [
    "# for i in range(len(summary_keywords_lst)):\n",
    "#     keywords_ner_labels = tfidf_keyword_extraction_with_ner(summary_keywords_lst[i])\n",
    "#     print(keywords_ner_labels)"
   ]
  },
  {
   "cell_type": "code",
   "execution_count": 65,
   "id": "32fd3b07-548d-4858-872b-ddbca6878cfa",
   "metadata": {},
   "outputs": [],
   "source": [
    "# print(summary_keywords_lst)"
   ]
  },
  {
   "cell_type": "markdown",
   "id": "6be7fd36-8570-440e-aca5-06ff4a7df11f",
   "metadata": {},
   "source": [
    "# Sentence Analysis"
   ]
  },
  {
   "cell_type": "code",
   "execution_count": 66,
   "id": "64b71908-f24c-471d-8a2c-8f675e1cc4a3",
   "metadata": {},
   "outputs": [],
   "source": [
    "def text_segmentate(text, maxlen, seps=u'\\n。！？；：，', strips=None):\n",
    "    \"\"\"\n",
    "    将文本按照标点符号划分为若干个短句，使得每个短句的长度不超过maxlen个字符\n",
    "    注：每个短句中可能存在标点符号\n",
    "    Args:\n",
    "        text: 文章\n",
    "        maxlen: 短句的最大字符长度\n",
    "        seps: 分隔符\n",
    "        strips: 首尾特定字符列表\n",
    "\n",
    "    Returns:\n",
    "\n",
    "    \"\"\"\n",
    "    text = text.strip().strip(strips)\n",
    "    if seps and len(text) > maxlen:\n",
    "        pieces = text.split(seps[0])\n",
    "        pieces = [p.strip() for p in pieces]\n",
    "        text, texts = '', []\n",
    "        for i, p in enumerate(pieces):\n",
    "            if text and p and len(text) + len(p) > maxlen - 1:\n",
    "                texts.extend(text_segmentate(text, maxlen, seps[1:], strips))\n",
    "                text = ''\n",
    "            if i + 1 == len(pieces):\n",
    "                text = text + p\n",
    "            else:\n",
    "                text = text + p + seps[0]\n",
    "        if text:\n",
    "            texts.extend(text_segmentate(text, maxlen, seps[1:], strips))\n",
    "        return texts\n",
    "    else:\n",
    "        return [text]"
   ]
  },
  {
   "cell_type": "code",
   "execution_count": 67,
   "id": "891a133e-c5e5-4c15-b2ae-6eeae7d301bd",
   "metadata": {},
   "outputs": [],
   "source": [
    "def sentence_length(text):\n",
    "    \"\"\"\n",
    "    统计句子数\n",
    "    \"\"\"\n",
    "    sentence_lengths = []\n",
    "    sentences = text_segmentate(text, 32)\n",
    "    return len(sentences)"
   ]
  },
  {
   "cell_type": "code",
   "execution_count": 68,
   "id": "c1a5135c-f172-44f5-a5c6-5cde838ef735",
   "metadata": {},
   "outputs": [],
   "source": [
    "df['text_sentence_lengths'] = df['text'].apply(sentence_length)\n",
    "df['summary_sentence_lengths'] = df['summary'].apply(sentence_length)"
   ]
  },
  {
   "cell_type": "code",
   "execution_count": 69,
   "id": "88282f97-2373-47cd-b76a-97318bea0ce4",
   "metadata": {},
   "outputs": [
    {
     "data": {
      "text/plain": [
       "count    248.000000\n",
       "mean      29.294355\n",
       "std       23.954031\n",
       "min        4.000000\n",
       "25%       12.750000\n",
       "50%       20.000000\n",
       "75%       40.000000\n",
       "max      126.000000\n",
       "Name: text_sentence_lengths, dtype: float64"
      ]
     },
     "execution_count": 69,
     "metadata": {},
     "output_type": "execute_result"
    }
   ],
   "source": [
    "df['text_sentence_lengths'].describe()"
   ]
  },
  {
   "cell_type": "code",
   "execution_count": 70,
   "id": "a36ecd35-78e3-4e65-be0a-5f79ce6ba2b8",
   "metadata": {},
   "outputs": [
    {
     "data": {
      "text/plain": [
       "count    248.000000\n",
       "mean       5.125000\n",
       "std        1.746164\n",
       "min        1.000000\n",
       "25%        4.000000\n",
       "50%        5.000000\n",
       "75%        6.000000\n",
       "max       12.000000\n",
       "Name: summary_sentence_lengths, dtype: float64"
      ]
     },
     "execution_count": 70,
     "metadata": {},
     "output_type": "execute_result"
    }
   ],
   "source": [
    "df['summary_sentence_lengths'].describe()"
   ]
  },
  {
   "cell_type": "markdown",
   "id": "77e301be-022a-4b17-a832-1abc743bb072",
   "metadata": {},
   "source": [
    "# Summary Appearance Analysis"
   ]
  },
  {
   "cell_type": "code",
   "execution_count": 74,
   "id": "d3cb2d80-b76b-43c5-b226-0b8548ba4009",
   "metadata": {},
   "outputs": [],
   "source": [
    "def visualize_sentence_position_distribution(sentence_positions, output_file=\"sentence_position_distribution.png\"):\n",
    "    sns.set_style(\"darkgrid\")\n",
    "\n",
    "    # 设置图形大小\n",
    "    plt.figure(figsize=(30, 12))\n",
    "    \n",
    "    # 绘制直方图\n",
    "    sns.histplot(sentence_positions, bins=range(1, max(sentence_positions + [10]) + 1), \n",
    "                 discrete=True, stat='density', color='skyblue', alpha=0.6, label='Histogram')\n",
    "#     custom_bins = [1, 5, 10, 15, 20, max(sentence_positions) + 1]\n",
    "#     sns.histplot(sentence_positions, bins=custom_bins, \n",
    "#                  discrete=True, stat='density', color='skyblue', alpha=0.6, label='Histogram')\n",
    "    \n",
    "    # 添加分布曲线，限制范围从1 开始\n",
    "#     sns.kdeplot(sentence_positions, color='red', linewidth=2, label='Density Curve', \n",
    "#                 clip=(1, max(sentence_positions) + 1),  # 限制 KDE 曲线的范围\n",
    "#                 bw_adjust=0.5)  # 调整带宽，减少过分平滑\n",
    "    \n",
    "    # 设置标题和标签\n",
    "    plt.title('摘要句在原文中的出现位置分布', fontsize=28, fontproperties=\"SimHei\")\n",
    "    plt.xlabel('摘要句位置', fontsize=20, fontproperties=\"SimHei\")\n",
    "    plt.ylabel('密度', fontsize=20, fontproperties=\"SimHei\")\n",
    "    \n",
    "    # 设置刻度标签大小\n",
    "    plt.tick_params(axis='x', labelsize=14)\n",
    "    plt.tick_params(axis='y', labelsize=14)\n",
    "    \n",
    "    # 确保所有句子索引显示在 x 轴上\n",
    "    plt.xticks(range(1, max(sentence_positions + [10]) + 1))\n",
    "    \n",
    "    # 限制 x 轴显示范围，从 0 开始\n",
    "#     plt.xlim(0, max(sentence_positions) + 1)\n",
    "    plt.xlim(0, 100)\n",
    "    \n",
    "    # 添加图例\n",
    "    plt.legend(fontsize=16)\n",
    "    \n",
    "    # 调整布局\n",
    "    plt.tight_layout()\n",
    "    \n",
    "    # 保存并显示\n",
    "    plt.savefig(output_file, dpi=300, bbox_inches='tight')\n",
    "    plt.show()"
   ]
  },
  {
   "cell_type": "code",
   "execution_count": 75,
   "id": "7cca2230-d8d2-4a4b-867b-a4c60654f0d9",
   "metadata": {},
   "outputs": [],
   "source": [
    "# see news_summarization_data_pyramid\\src\\data_analysis\\extract_convert.py\n",
    "\n",
    "sentence_positions = [[0, 3, 4, 15], [0, 9, 10, 11, 16], [0, 6, 8, 9], [0, 1, 2, 4, 18], [1, 2, 3, 6, 7, 13, 15, 16], [0, 1, 2, 3, 6, 12, 13], [0, 2, 3, 4, 5, 19, 21, 22, 25, 26], [0, 4, 5, 6], [1, 5, 7, 8], [0, 1, 7, 41], [0, 2, 3, 4, 5, 7], [0, 1, 2, 18, 19], [1, 2, 14, 15, 17, 19], [12, 13, 14, 16, 32, 33], [0, 1, 8, 47, 88], [0, 6, 8, 9, 10, 12, 13, 36, 37, 38, 39, 41], [0, 6, 8], [0, 1, 43, 44, 45], [1, 5, 8, 9, 10, 11], [1, 77, 78, 80, 81, 82, 83, 84, 87], [1, 2, 3, 4, 11, 12], [0, 1], [2, 6, 7, 8, 18], [0, 1, 5, 6, 8, 10], [0, 2, 3, 28, 29], [0, 1, 5, 6, 7, 8], [0, 12, 13, 36, 41], [1, 3, 4, 6, 7, 9, 11, 12, 18, 20], [0, 1, 2, 5, 6, 7, 9, 10, 12, 15, 16, 17, 18, 19, 22, 23], [0, 9, 10, 11, 12, 13, 14, 15, 16], [0, 4, 6, 7, 8, 9, 10, 11], [0, 1, 92, 93, 97], [0, 2, 3, 4], [0, 1, 12, 13, 16, 34, 36, 37, 38], [1, 2, 6, 7, 8], [0, 8, 26, 31, 33, 34, 35], [0, 4, 5, 9, 10, 11, 14], [0, 82, 83, 134], [6, 10, 11, 19, 21, 34, 35, 36], [0, 5, 6, 15, 22, 23], [0, 3, 6, 10], [3, 4, 6, 7, 8, 17, 18, 32, 33], [2, 3, 14, 15, 16, 17, 18, 19, 20, 22, 23], [0, 2, 4, 5, 6], [0, 2, 3, 4, 5, 10, 14, 15, 16], [0, 1, 2, 15, 16, 17, 18], [0, 1, 2, 5, 8, 9, 26, 28, 29, 30], [0, 5, 10, 11, 12, 13, 16, 17, 18], [6, 7, 9, 10, 28, 39, 40, 41], [0, 10, 17, 33, 41, 53], [4, 5, 7, 8, 9, 12], [0, 1, 8, 9, 35, 39], [0, 12, 13, 44], [6, 7, 14, 18, 19, 20, 48, 53], [2, 3, 4, 5, 6, 7, 8, 9], [0, 2, 3, 9], [1, 2, 3, 4, 5, 6], [0, 1, 10, 11], [2, 3, 4, 5, 6], [14, 16, 20, 21], [1, 2, 14, 18, 46, 47, 48, 49, 50, 51], [1, 11, 19, 20, 21, 22, 27, 28], [0, 3, 16, 19, 20, 21], [3, 5, 7, 9, 10, 11, 12], [0, 2, 16], [0, 1, 3, 5, 6, 12], [0, 1, 39, 40, 45, 47, 53, 90, 91, 92], [0, 1, 2, 3, 4, 5, 6, 7, 8, 9, 10, 11, 12, 13, 14], [0, 2, 3, 5], [0, 3, 4, 5, 7, 8], [0, 1, 3, 12, 13], [0, 1, 5, 6, 7, 8], [0, 1, 3, 4, 5, 17, 18], [2, 4, 8, 10, 11], [2, 3, 4], [0, 30, 31, 32, 33, 34], [5, 10, 34, 57, 58, 59], [0, 3, 5, 6, 7, 8, 15, 35, 52], [1, 2, 14, 15, 16, 18, 19], [0, 1, 2, 3, 6, 7, 8, 14], [2, 3, 6, 7, 8, 9], [1, 2, 3, 31, 32, 34, 35, 38, 39, 40], [0, 1, 5, 8, 9, 10], [0, 2, 3, 4, 5, 7, 8, 9], [5, 16, 20, 21, 22, 23, 24, 25], [1, 5, 9, 10, 11, 12, 13, 14], [0, 2, 3, 4, 5, 12, 13, 14], [10, 11, 19, 21, 22], [0, 1, 5, 6, 7, 8, 9, 60, 61], [4, 6, 10, 11, 13, 15, 16], [0, 12, 15, 17], [3, 4, 5, 10, 11, 13, 14, 15, 16], [1, 10, 12, 13, 16], [8, 29, 31, 38, 48], [0, 5, 6, 15, 16], [2, 3, 4, 5], [3, 6, 7, 8, 43], [0, 1, 5, 22, 26], [0, 1, 2, 8, 58, 59, 80], [2, 3, 4, 12, 13], [1, 6, 11, 12, 13, 14, 30, 31], [0, 13, 14, 15], [0, 1, 4, 14, 15, 16, 17], [0, 1, 2, 3, 20, 24], [1, 4, 5, 6, 7, 8, 9], [0, 2, 3, 4], [1, 2, 3, 4, 5, 55], [1, 2, 3, 15, 17, 18], [0, 1, 11, 16, 17], [3, 4, 5, 6, 10, 14, 16, 22, 27, 50, 51], [0, 1, 4, 33, 34, 35, 39, 40, 41, 43], [0, 6, 8, 14], [0, 3, 8], [0, 9, 10, 11], [0, 2, 6, 7, 9, 12, 13, 15], [0, 1, 7, 8, 10], [0, 3, 5, 30, 31, 32, 33], [1, 5, 6, 10, 11], [0, 8], [2, 5, 10, 11, 12, 13], [0, 4, 5], [1, 2, 3, 4, 5, 6, 7], [0, 1, 2, 4, 5], [4, 5, 6, 14, 15, 44], [1, 2, 4, 5, 11], [5, 18], [2, 4, 5, 6, 115], [0, 1, 2, 3, 4, 5, 6], [0, 2, 15], [0, 1, 62, 64], [0, 6, 7, 9, 10, 15, 16, 17], [0, 4, 8, 10], [0, 3, 4, 5, 6], [0, 1], [0, 1, 7, 8, 9, 10, 11], [1, 13, 14], [0, 6], [0, 21], [1, 3, 4], [1, 2, 4, 5, 6], [0, 8], [0, 1, 33, 34, 36], [1, 2, 3, 5], [0, 5, 13, 14, 15, 16], [0, 2, 3, 13, 14, 15, 16, 17], [0, 5, 9, 11, 17, 19, 20], [0, 11, 17], [1, 3, 18, 21], [0, 3, 4, 5, 7, 8], [0, 6, 11, 12], [0, 2, 3], [2, 3, 4, 12, 14, 15], [0, 1, 5, 12], [1, 5, 7, 8], [4, 5, 28, 29, 30, 32, 34], [1, 6, 7, 9, 10, 11, 12], [0, 1, 3], [0, 1, 3, 4], [0, 4, 10, 11, 12], [3, 6, 7, 8, 11, 12, 13], [3, 4], [1, 2, 3, 4, 6, 7], [0, 1, 4, 5, 12, 13], [0, 1, 14, 15, 16], [4, 5, 7, 72, 101, 103, 104, 105, 106], [1, 2, 3, 4, 10, 11, 57], [5, 7, 8], [4, 5, 12, 13, 71, 73, 74, 75, 76, 90], [4, 23, 52, 54, 55, 59], [0, 2, 4, 8], [1, 2, 3, 4], [0, 3, 4, 9, 10, 11], [0, 1, 4, 5, 9, 10], [0, 2, 3], [0, 1, 8, 9, 10], [9, 15, 16, 18, 19], [0, 1, 4, 5, 7, 10], [3, 4, 48, 49, 53], [0], [0, 3, 4, 8, 9], [0, 1, 3, 7, 8], [1, 2, 8, 9, 10, 11], [0, 1, 2, 3, 4, 5], [0, 1, 3, 4], [0, 8, 9, 10, 11, 12, 13, 14], [3, 5, 6], [9, 10, 11, 12], [0, 1, 2, 5, 7, 8, 9], [0, 1, 3, 29, 30, 31, 33, 34, 35], [0, 1, 3, 23, 46, 48], [0, 8, 9, 18, 21, 22, 23, 24], [1, 2, 3, 4, 6, 7], [0, 1, 2, 3, 4], [0, 1, 2], [0, 1, 4, 5], [0, 1, 2, 3, 8, 9, 11, 12, 13], [3, 4, 5, 6], [1, 3, 8, 9, 10, 11], [0, 1, 18, 19, 20, 21], [3, 4, 5, 6, 7, 8, 9, 10], [0, 1, 14, 18, 30, 32, 34, 36, 37], [0, 16, 17], [0, 3, 4, 7, 8, 9], [1, 7, 12, 13, 14, 15], [1, 5, 7, 8], [0, 2, 5], [0, 4, 15, 16, 17, 18, 19, 20], [0, 3, 18, 20, 21, 22], [0, 3, 4, 6], [0, 1, 2, 3], [0, 4], [1, 2], [0, 5, 6, 11, 12, 16, 17], [0, 5, 6, 7], [0, 3, 6, 7, 8, 9], [2, 4, 6, 7, 8, 9, 10, 12, 13, 14], [4, 5, 17, 18, 19, 20, 25, 26], [4, 5, 7, 14, 15, 16], [2, 6, 9, 11, 14, 21, 22, 24], [0, 1, 28, 29, 30, 31], [1, 4, 5, 6, 7, 8, 10, 11, 12, 13, 14, 29, 30, 32], [1, 2, 13, 14, 15], [0, 1, 7, 8, 9, 10, 11, 12, 13, 14], [0, 1, 4, 5, 6, 15, 16], [1, 6, 14, 15, 17], [0, 5, 18, 19, 20, 21, 22, 23], [2, 4, 8], [0, 3, 4, 13, 14], [2, 3, 4, 5, 11, 12], [4, 6, 15, 16], [1, 7, 8, 16, 17], [3, 4, 5, 6, 9, 10, 11, 12], [1, 2, 3], [1, 3, 4, 5], [0, 1, 35, 57, 98, 102, 103, 104], [3, 5, 10, 11], [2, 15, 16, 17], [0, 21, 22, 24, 27, 29, 30, 31, 32], [0, 6, 7, 8], [0, 1, 2, 9, 10], [2, 13, 14, 15, 24, 25, 26], [2, 3], [1, 2, 3], [1, 2, 3, 33, 34, 35, 36], [1, 2, 4, 5, 6, 7], [0, 8, 9, 27], [0, 3, 5, 6, 7, 8, 14, 16], [1, 2, 3, 15, 16]]\n",
    "all_sentence_positions = []\n",
    "for i in sentence_positions:\n",
    "    all_sentence_positions.extend([j + 1 for j in i])"
   ]
  },
  {
   "cell_type": "code",
   "execution_count": null,
   "id": "6a28378c-2b2e-467f-a56f-8177e2667866",
   "metadata": {},
   "outputs": [],
   "source": [
    "visualize_sentence_position_distribution(all_sentence_positions, output_file=\"enterprise_news_sentence_position_distribution.png\")"
   ]
  },
  {
   "cell_type": "markdown",
   "id": "9ec0da34-da84-4dad-bf6c-2a1a25f41b50",
   "metadata": {},
   "source": [
    "# Different Datasets Length Analysis"
   ]
  },
  {
   "cell_type": "code",
   "execution_count": 1,
   "id": "d0267190-a16b-4de3-b696-783c2640c03e",
   "metadata": {},
   "outputs": [],
   "source": [
    "import matplotlib.pyplot as plt\n",
    "import seaborn as sns\n",
    "import numpy as np # 导入 numpy 用于生成模拟数据"
   ]
  },
  {
   "cell_type": "code",
   "execution_count": 2,
   "id": "3fb91659-5e6b-4724-9d1d-ac055d6609da",
   "metadata": {},
   "outputs": [],
   "source": [
    "# 模拟 CNN/DailyMail 数据\n",
    "cnn_extractive_data = np.random.normal(loc=25, scale=8, size=1000)\n",
    "cnn_abstractive_data = np.random.normal(loc=75, scale=20, size=1000)\n",
    "cnn_human_data = np.random.normal(loc=35, scale=12, size=1000)\n",
    "\n",
    "# 模拟 BBC XSum 数据\n",
    "bbc_extractive_data = np.random.normal(loc=25, scale=5, size=1000)\n",
    "bbc_abstractive_data = np.random.normal(loc=30, scale=10, size=1000)\n",
    "bbc_human_data = np.random.normal(loc=15, scale=4, size=1000)"
   ]
  },
  {
   "cell_type": "code",
   "execution_count": 6,
   "id": "8fef94e6-121b-4b67-aed3-0eabe1a1bfe8",
   "metadata": {},
   "outputs": [
    {
     "data": {
      "image/png": "[encoded data removed]",
      "text/plain": [
       "<Figure size 432x288 with 1 Axes>"
      ]
     },
     "metadata": {
      "needs_background": "light"
     },
     "output_type": "display_data"
    }
   ],
   "source": [
    "# 创建单个子图 (只需要一个)\n",
    "fig, ax = plt.subplots(1, 1, figsize=(6, 4)) # 创建 1 行 1 列的子图, 调整 figsize 更适合单个图\n",
    "\n",
    "# CNN/DailyMail 子图 (使用 ax 而不是 axes[0])\n",
    "sns.kdeplot(cnn_extractive_data,  label=\"Extractive Data\", color='navy', shade=True, ax=ax) # 使用 ax\n",
    "sns.kdeplot(cnn_abstractive_data, label=\"Abstractive Data\", color='crimson', shade=True, ax=ax) # 使用 ax\n",
    "sns.kdeplot(cnn_human_data,      label=\"Human-annotated Data\", color='gold', shade=True, ax=ax) # 使用 ax\n",
    "ax.set_title('CNN/DailyMail')\n",
    "ax.set_ylabel('Density')\n",
    "ax.set_xlabel('Summary Length')\n",
    "ax.set_xlim(0, 200)\n",
    "ax.set_ylim(0, 0.05)\n",
    "ax.legend(loc='upper right')\n",
    "\n",
    "plt.suptitle('Figure 3: Summary token length distributions of DP.') # 总标题保持不变\n",
    "plt.tight_layout(rect=[0, 0, 1, 0.95]) # 布局调整保持不变\n",
    "\n",
    "plt.show()"
   ]
  },
  {
   "cell_type": "code",
   "execution_count": null,
   "id": "f7373591-b595-480d-809f-4378024fb410",
   "metadata": {},
   "outputs": [],
   "source": [
    "file_path = osp.join(ROOT_DIR, 'data', 'THUCNews', '')\n",
    "with open(file_path, 'r', encoding='utf-8') as fr:\n",
    "    data_lst = [line.strip() for line in fr.readlines()]\n",
    "text_lst = [len(i.split('\\u0001')[1]) for i in data_lst]\n",
    "summary_lst = [len(i.split('\\u0001')[0]) for i in data_lst]"
   ]
  },
  {
   "cell_type": "code",
   "execution_count": 13,
   "id": "1a9cee5f-bbbc-42b1-94d1-4132737ba23c",
   "metadata": {},
   "outputs": [],
   "source": [
    "file_path = 'companies_news_info_v2.txt'\n",
    "data_lst = []\n",
    "data_path = osp.join(ROOT_DIR, 'data', 'THUCNews', file_path)\n",
    "with open(data_path, mode='r', encoding='utf-8') as fr:\n",
    "    lines = fr.readlines()\n",
    "    for line in lines:\n",
    "        eles = line.strip().split('\\u0001')\n",
    "        data_lst.append(len(eles[1]))"
   ]
  },
  {
   "cell_type": "code",
   "execution_count": 15,
   "id": "5c672d12-7796-4148-81ac-d4e1307cd56b",
   "metadata": {},
   "outputs": [
    {
     "data": {
      "text/plain": [
       "[115,\n",
       " 123,\n",
       " 147,\n",
       " 155,\n",
       " 155,\n",
       " 160,\n",
       " 162,\n",
       " 163,\n",
       " 166,\n",
       " 169,\n",
       " 178,\n",
       " 185,\n",
       " 189,\n",
       " 199,\n",
       " 200,\n",
       " 201,\n",
       " 203,\n",
       " 205,\n",
       " 214,\n",
       " 217,\n",
       " 220,\n",
       " 225,\n",
       " 231,\n",
       " 232,\n",
       " 233,\n",
       " 234,\n",
       " 234,\n",
       " 235,\n",
       " 235,\n",
       " 236,\n",
       " 237,\n",
       " 238,\n",
       " 240,\n",
       " 243,\n",
       " 245,\n",
       " 249,\n",
       " 251,\n",
       " 251,\n",
       " 251,\n",
       " 252,\n",
       " 255,\n",
       " 260,\n",
       " 268,\n",
       " 269,\n",
       " 270,\n",
       " 274,\n",
       " 275,\n",
       " 276,\n",
       " 279,\n",
       " 279,\n",
       " 284,\n",
       " 285,\n",
       " 286,\n",
       " 288,\n",
       " 297,\n",
       " 297,\n",
       " 298,\n",
       " 298,\n",
       " 302,\n",
       " 303,\n",
       " 304,\n",
       " 305,\n",
       " 308,\n",
       " 310,\n",
       " 315,\n",
       " 316,\n",
       " 317,\n",
       " 319,\n",
       " 322,\n",
       " 325,\n",
       " 328,\n",
       " 328,\n",
       " 330,\n",
       " 332,\n",
       " 332,\n",
       " 335,\n",
       " 338,\n",
       " 343,\n",
       " 351,\n",
       " 353,\n",
       " 358,\n",
       " 362,\n",
       " 364,\n",
       " 368,\n",
       " 372,\n",
       " 373,\n",
       " 388,\n",
       " 389,\n",
       " 390,\n",
       " 396,\n",
       " 401,\n",
       " 406,\n",
       " 407,\n",
       " 409,\n",
       " 410,\n",
       " 411,\n",
       " 415,\n",
       " 416,\n",
       " 416,\n",
       " 418,\n",
       " 420,\n",
       " 420,\n",
       " 420,\n",
       " 421,\n",
       " 427,\n",
       " 428,\n",
       " 429,\n",
       " 430,\n",
       " 432,\n",
       " 437,\n",
       " 438,\n",
       " 440,\n",
       " 440,\n",
       " 441,\n",
       " 443,\n",
       " 448,\n",
       " 448,\n",
       " 450,\n",
       " 460,\n",
       " 463,\n",
       " 466,\n",
       " 474,\n",
       " 476,\n",
       " 478,\n",
       " 480,\n",
       " 482,\n",
       " 483,\n",
       " 491,\n",
       " 493,\n",
       " 505,\n",
       " 508,\n",
       " 509,\n",
       " 514,\n",
       " 529,\n",
       " 531,\n",
       " 533,\n",
       " 534,\n",
       " 548,\n",
       " 551,\n",
       " 569,\n",
       " 573,\n",
       " 583,\n",
       " 585,\n",
       " 595,\n",
       " 598,\n",
       " 615,\n",
       " 616,\n",
       " 631,\n",
       " 632,\n",
       " 634,\n",
       " 643,\n",
       " 656,\n",
       " 664,\n",
       " 667,\n",
       " 674,\n",
       " 676,\n",
       " 678,\n",
       " 678,\n",
       " 682,\n",
       " 687,\n",
       " 701,\n",
       " 712,\n",
       " 715,\n",
       " 728,\n",
       " 776,\n",
       " 794,\n",
       " 795,\n",
       " 798,\n",
       " 814,\n",
       " 817,\n",
       " 821,\n",
       " 827,\n",
       " 827,\n",
       " 830,\n",
       " 850,\n",
       " 865,\n",
       " 865,\n",
       " 873,\n",
       " 873,\n",
       " 875,\n",
       " 886,\n",
       " 889,\n",
       " 904,\n",
       " 917,\n",
       " 920,\n",
       " 921,\n",
       " 923,\n",
       " 931,\n",
       " 931,\n",
       " 936,\n",
       " 971,\n",
       " 972,\n",
       " 972,\n",
       " 997,\n",
       " 1006,\n",
       " 1008,\n",
       " 1049,\n",
       " 1066,\n",
       " 1096,\n",
       " 1097,\n",
       " 1098,\n",
       " 1104,\n",
       " 1122,\n",
       " 1137,\n",
       " 1152,\n",
       " 1153,\n",
       " 1164,\n",
       " 1176,\n",
       " 1202,\n",
       " 1211,\n",
       " 1213,\n",
       " 1295,\n",
       " 1310,\n",
       " 1323,\n",
       " 1343,\n",
       " 1349,\n",
       " 1356,\n",
       " 1365,\n",
       " 1365,\n",
       " 1374,\n",
       " 1386,\n",
       " 1408,\n",
       " 1409,\n",
       " 1419,\n",
       " 1461,\n",
       " 1570,\n",
       " 1641,\n",
       " 1709,\n",
       " 1716,\n",
       " 1732,\n",
       " 1801,\n",
       " 1824,\n",
       " 1838,\n",
       " 1869,\n",
       " 1924,\n",
       " 1972,\n",
       " 2065,\n",
       " 2066,\n",
       " 2098,\n",
       " 2128,\n",
       " 2199,\n",
       " 2256,\n",
       " 2310,\n",
       " 2344,\n",
       " 2456,\n",
       " 2723,\n",
       " 2815,\n",
       " 3564]"
      ]
     },
     "execution_count": 15,
     "metadata": {},
     "output_type": "execute_result"
    }
   ],
   "source": [
    "sorted(data_lst)"
   ]
  },
  {
   "cell_type": "code",
   "execution_count": 16,
   "id": "09627450-c495-4156-8f7f-821d44f3415b",
   "metadata": {},
   "outputs": [
    {
     "data": {
      "text/plain": [
       "248"
      ]
     },
     "execution_count": 16,
     "metadata": {},
     "output_type": "execute_result"
    }
   ],
   "source": [
    "len(data_lst)"
   ]
  },
  {
   "cell_type": "code",
   "execution_count": 17,
   "id": "9bdd5f0f-adca-48a2-a2ca-88f0ad4ea3c4",
   "metadata": {},
   "outputs": [
    {
     "name": "stderr",
     "output_type": "stream",
     "text": [
      "C:\\Users\\chenyongming\\AppData\\Local\\anaconda3\\envs\\textsum_finetune\\lib\\site-packages\\matplotlib\\backends\\backend_agg.py:238: RuntimeWarning: Glyph 25968 missing from current font.\n",
      "  font.set_text(s, 0.0, flags=flags)\n",
      "C:\\Users\\chenyongming\\AppData\\Local\\anaconda3\\envs\\textsum_finetune\\lib\\site-packages\\matplotlib\\backends\\backend_agg.py:238: RuntimeWarning: Glyph 25454 missing from current font.\n",
      "  font.set_text(s, 0.0, flags=flags)\n",
      "C:\\Users\\chenyongming\\AppData\\Local\\anaconda3\\envs\\textsum_finetune\\lib\\site-packages\\matplotlib\\backends\\backend_agg.py:238: RuntimeWarning: Glyph 38598 missing from current font.\n",
      "  font.set_text(s, 0.0, flags=flags)\n",
      "C:\\Users\\chenyongming\\AppData\\Local\\anaconda3\\envs\\textsum_finetune\\lib\\site-packages\\matplotlib\\backends\\backend_agg.py:238: RuntimeWarning: Glyph 30452 missing from current font.\n",
      "  font.set_text(s, 0.0, flags=flags)\n",
      "C:\\Users\\chenyongming\\AppData\\Local\\anaconda3\\envs\\textsum_finetune\\lib\\site-packages\\matplotlib\\backends\\backend_agg.py:238: RuntimeWarning: Glyph 26041 missing from current font.\n",
      "  font.set_text(s, 0.0, flags=flags)\n",
      "C:\\Users\\chenyongming\\AppData\\Local\\anaconda3\\envs\\textsum_finetune\\lib\\site-packages\\matplotlib\\backends\\backend_agg.py:238: RuntimeWarning: Glyph 22270 missing from current font.\n",
      "  font.set_text(s, 0.0, flags=flags)\n",
      "C:\\Users\\chenyongming\\AppData\\Local\\anaconda3\\envs\\textsum_finetune\\lib\\site-packages\\matplotlib\\backends\\backend_agg.py:238: RuntimeWarning: Glyph 20540 missing from current font.\n",
      "  font.set_text(s, 0.0, flags=flags)\n",
      "C:\\Users\\chenyongming\\AppData\\Local\\anaconda3\\envs\\textsum_finetune\\lib\\site-packages\\matplotlib\\backends\\backend_agg.py:238: RuntimeWarning: Glyph 39057 missing from current font.\n",
      "  font.set_text(s, 0.0, flags=flags)\n",
      "C:\\Users\\chenyongming\\AppData\\Local\\anaconda3\\envs\\textsum_finetune\\lib\\site-packages\\matplotlib\\backends\\backend_agg.py:201: RuntimeWarning: Glyph 25968 missing from current font.\n",
      "  font.set_text(s, 0, flags=flags)\n",
      "C:\\Users\\chenyongming\\AppData\\Local\\anaconda3\\envs\\textsum_finetune\\lib\\site-packages\\matplotlib\\backends\\backend_agg.py:201: RuntimeWarning: Glyph 25454 missing from current font.\n",
      "  font.set_text(s, 0, flags=flags)\n",
      "C:\\Users\\chenyongming\\AppData\\Local\\anaconda3\\envs\\textsum_finetune\\lib\\site-packages\\matplotlib\\backends\\backend_agg.py:201: RuntimeWarning: Glyph 20540 missing from current font.\n",
      "  font.set_text(s, 0, flags=flags)\n",
      "C:\\Users\\chenyongming\\AppData\\Local\\anaconda3\\envs\\textsum_finetune\\lib\\site-packages\\matplotlib\\backends\\backend_agg.py:201: RuntimeWarning: Glyph 39057 missing from current font.\n",
      "  font.set_text(s, 0, flags=flags)\n",
      "C:\\Users\\chenyongming\\AppData\\Local\\anaconda3\\envs\\textsum_finetune\\lib\\site-packages\\matplotlib\\backends\\backend_agg.py:201: RuntimeWarning: Glyph 38598 missing from current font.\n",
      "  font.set_text(s, 0, flags=flags)\n",
      "C:\\Users\\chenyongming\\AppData\\Local\\anaconda3\\envs\\textsum_finetune\\lib\\site-packages\\matplotlib\\backends\\backend_agg.py:201: RuntimeWarning: Glyph 30452 missing from current font.\n",
      "  font.set_text(s, 0, flags=flags)\n",
      "C:\\Users\\chenyongming\\AppData\\Local\\anaconda3\\envs\\textsum_finetune\\lib\\site-packages\\matplotlib\\backends\\backend_agg.py:201: RuntimeWarning: Glyph 26041 missing from current font.\n",
      "  font.set_text(s, 0, flags=flags)\n",
      "C:\\Users\\chenyongming\\AppData\\Local\\anaconda3\\envs\\textsum_finetune\\lib\\site-packages\\matplotlib\\backends\\backend_agg.py:201: RuntimeWarning: Glyph 22270 missing from current font.\n",
      "  font.set_text(s, 0, flags=flags)\n"
     ]
    },
    {
     "data": {
      "image/png": "[encoded data removed]",
      "text/plain": [
       "<Figure size 720x432 with 1 Axes>"
      ]
     },
     "metadata": {
      "needs_background": "light"
     },
     "output_type": "display_data"
    },
    {
     "name": "stderr",
     "output_type": "stream",
     "text": [
      "C:\\Users\\chenyongming\\AppData\\Local\\anaconda3\\envs\\textsum_finetune\\lib\\site-packages\\matplotlib\\backends\\backend_agg.py:238: RuntimeWarning: Glyph 25968 missing from current font.\n",
      "  font.set_text(s, 0.0, flags=flags)\n",
      "C:\\Users\\chenyongming\\AppData\\Local\\anaconda3\\envs\\textsum_finetune\\lib\\site-packages\\matplotlib\\backends\\backend_agg.py:238: RuntimeWarning: Glyph 25454 missing from current font.\n",
      "  font.set_text(s, 0.0, flags=flags)\n",
      "C:\\Users\\chenyongming\\AppData\\Local\\anaconda3\\envs\\textsum_finetune\\lib\\site-packages\\matplotlib\\backends\\backend_agg.py:238: RuntimeWarning: Glyph 38598 missing from current font.\n",
      "  font.set_text(s, 0.0, flags=flags)\n",
      "C:\\Users\\chenyongming\\AppData\\Local\\anaconda3\\envs\\textsum_finetune\\lib\\site-packages\\matplotlib\\backends\\backend_agg.py:238: RuntimeWarning: Glyph 31665 missing from current font.\n",
      "  font.set_text(s, 0.0, flags=flags)\n",
      "C:\\Users\\chenyongming\\AppData\\Local\\anaconda3\\envs\\textsum_finetune\\lib\\site-packages\\matplotlib\\backends\\backend_agg.py:238: RuntimeWarning: Glyph 32447 missing from current font.\n",
      "  font.set_text(s, 0.0, flags=flags)\n",
      "C:\\Users\\chenyongming\\AppData\\Local\\anaconda3\\envs\\textsum_finetune\\lib\\site-packages\\matplotlib\\backends\\backend_agg.py:238: RuntimeWarning: Glyph 22270 missing from current font.\n",
      "  font.set_text(s, 0.0, flags=flags)\n",
      "C:\\Users\\chenyongming\\AppData\\Local\\anaconda3\\envs\\textsum_finetune\\lib\\site-packages\\matplotlib\\backends\\backend_agg.py:238: RuntimeWarning: Glyph 20540 missing from current font.\n",
      "  font.set_text(s, 0.0, flags=flags)\n",
      "C:\\Users\\chenyongming\\AppData\\Local\\anaconda3\\envs\\textsum_finetune\\lib\\site-packages\\matplotlib\\backends\\backend_agg.py:201: RuntimeWarning: Glyph 25968 missing from current font.\n",
      "  font.set_text(s, 0, flags=flags)\n",
      "C:\\Users\\chenyongming\\AppData\\Local\\anaconda3\\envs\\textsum_finetune\\lib\\site-packages\\matplotlib\\backends\\backend_agg.py:201: RuntimeWarning: Glyph 25454 missing from current font.\n",
      "  font.set_text(s, 0, flags=flags)\n",
      "C:\\Users\\chenyongming\\AppData\\Local\\anaconda3\\envs\\textsum_finetune\\lib\\site-packages\\matplotlib\\backends\\backend_agg.py:201: RuntimeWarning: Glyph 20540 missing from current font.\n",
      "  font.set_text(s, 0, flags=flags)\n",
      "C:\\Users\\chenyongming\\AppData\\Local\\anaconda3\\envs\\textsum_finetune\\lib\\site-packages\\matplotlib\\backends\\backend_agg.py:201: RuntimeWarning: Glyph 38598 missing from current font.\n",
      "  font.set_text(s, 0, flags=flags)\n",
      "C:\\Users\\chenyongming\\AppData\\Local\\anaconda3\\envs\\textsum_finetune\\lib\\site-packages\\matplotlib\\backends\\backend_agg.py:201: RuntimeWarning: Glyph 31665 missing from current font.\n",
      "  font.set_text(s, 0, flags=flags)\n",
      "C:\\Users\\chenyongming\\AppData\\Local\\anaconda3\\envs\\textsum_finetune\\lib\\site-packages\\matplotlib\\backends\\backend_agg.py:201: RuntimeWarning: Glyph 32447 missing from current font.\n",
      "  font.set_text(s, 0, flags=flags)\n",
      "C:\\Users\\chenyongming\\AppData\\Local\\anaconda3\\envs\\textsum_finetune\\lib\\site-packages\\matplotlib\\backends\\backend_agg.py:201: RuntimeWarning: Glyph 22270 missing from current font.\n",
      "  font.set_text(s, 0, flags=flags)\n"
     ]
    },
    {
     "data": {
      "image/png": "[encoded data removed]",
      "text/plain": [
       "<Figure size 576x288 with 1 Axes>"
      ]
     },
     "metadata": {
      "needs_background": "light"
     },
     "output_type": "display_data"
    }
   ],
   "source": [
    "import matplotlib.pyplot as plt\n",
    "import seaborn as sns\n",
    "import numpy as np\n",
    "data_array = np.array(data_lst)\n",
    "\n",
    "# 1. 直方图\n",
    "plt.figure(figsize=(10, 6))\n",
    "sns.histplot(data_array, bins=30, kde=True) # bins 参数可以调整柱子的数量，kde=True 添加核密度估计曲线\n",
    "plt.title('数据集直方图')\n",
    "plt.xlabel('数据值')\n",
    "plt.ylabel('频数')\n",
    "plt.grid(axis='y', alpha=0.75)\n",
    "plt.show()\n",
    "\n",
    "# 2. 箱线图\n",
    "plt.figure(figsize=(8, 4))\n",
    "sns.boxplot(x=data_array)\n",
    "plt.title('数据集箱线图')\n",
    "plt.xlabel('数据值')\n",
    "plt.show()"
   ]
  },
  {
   "cell_type": "code",
   "execution_count": null,
   "id": "230fba0d-6d4a-447e-9395-98d4331b391e",
   "metadata": {},
   "outputs": [],
   "source": []
  }
 ],
 "metadata": {
  "kernelspec": {
   "display_name": "textsum_finetune",
   "language": "python",
   "name": "textsum_finetune"
  },
  "language_info": {
   "codemirror_mode": {
    "name": "ipython",
    "version": 3
   },
   "file_extension": ".py",
   "mimetype": "text/x-python",
   "name": "python",
   "nbconvert_exporter": "python",
   "pygments_lexer": "ipython3",
   "version": "3.6.13"
  }
 },
 "nbformat": 4,
 "nbformat_minor": 5
}
